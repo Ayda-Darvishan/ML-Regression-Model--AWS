{
 "cells": [
  {
   "cell_type": "markdown",
   "id": "5c550101",
   "metadata": {},
   "source": [
    "# Hello"
   ]
  },
  {
   "cell_type": "markdown",
   "id": "8188fdd0",
   "metadata": {},
   "source": [
    "# 2. Data Overview\n",
    "\n",
    "### Importing Nessesory Libraries"
   ]
  },
  {
   "cell_type": "code",
   "execution_count": 1,
   "id": "4222fe0d",
   "metadata": {},
   "outputs": [],
   "source": [
    "import numpy as np\n",
    "import pandas as pd\n",
    "import matplotlib.pyplot as plt\n",
    "import seaborn as sns\n",
    "import pylab\n",
    "import scipy.stats as stats\n",
    "\n",
    "#Removes the limit from the number of displayed columns and rows.\n",
    "pd.set_option('display.max_columns', None)\n",
    "pd.set_option('display.max_rows', 200)\n",
    "\n",
    "#Using plotly for specific plots of categorical variables\n",
    "import plotly.graph_objects as go\n",
    "import plotly.express as px\n",
    "from  plotly.subplots import make_subplots\n",
    "import plotly.io as pio\n",
    "\n",
    "#Add a nice bachground to graphs and show graghs in the notebood\n",
    "sns.set(color_codes=True)\n",
    "%matplotlib inline \n",
    "\n",
    "#To build linear regression_model using sklearn\n",
    "from sklearn.linear_model import LinearRegression\n",
    "#Function to randomly split the data into train data and test data\n",
    "from sklearn.model_selection import train_test_split  \n",
    "\n",
    "#To build linear regression_model using statsmodels\n",
    "import statsmodels.api as sm\n",
    "\n",
    "#To check the regression model\n",
    "from sklearn.metrics import mean_squared_error\n",
    "from sklearn.metrics import mean_absolute_error, mean_squared_error, r2_score\n",
    "from statsmodels.stats.outliers_influence import variance_inflation_factor\n",
    "\n",
    "import warnings\n",
    "warnings.filterwarnings('ignore')"
   ]
  }
 ],
 "metadata": {
  "kernelspec": {
   "display_name": "conda_python3",
   "language": "python",
   "name": "conda_python3"
  },
  "language_info": {
   "codemirror_mode": {
    "name": "ipython",
    "version": 3
   },
   "file_extension": ".py",
   "mimetype": "text/x-python",
   "name": "python",
   "nbconvert_exporter": "python",
   "pygments_lexer": "ipython3",
   "version": "3.6.13"
  }
 },
 "nbformat": 4,
 "nbformat_minor": 5
}
